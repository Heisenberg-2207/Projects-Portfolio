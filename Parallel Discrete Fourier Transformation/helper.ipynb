{
 "cells": [
  {
   "cell_type": "markdown",
   "metadata": {},
   "source": [
    "### Imports"
   ]
  },
  {
   "cell_type": "code",
   "execution_count": 1,
   "metadata": {},
   "outputs": [],
   "source": [
    "import cv2\n",
    "import numpy as np\n",
    "import pandas as pd"
   ]
  },
  {
   "cell_type": "markdown",
   "metadata": {},
   "source": [
    "### OMP csv generation"
   ]
  },
  {
   "cell_type": "code",
   "execution_count": 2,
   "metadata": {},
   "outputs": [],
   "source": [
    "# Read the sample image\n",
    "image = cv2.imread('sample_image.jpg')\n",
    "\n",
    "# Convert the image to grayscale\n",
    "gray_img = cv2.cvtColor(image, cv2.COLOR_BGR2GRAY)\n",
    "\n",
    "# Create a DataFrame from the grayscale image\n",
    "df = pd.DataFrame(gray_img)\n",
    "\n",
    "# Save the DataFrame to a CSV file\n",
    "df.to_csv('OMP_signal.csv', index=False, header=False)\n"
   ]
  },
  {
   "cell_type": "markdown",
   "metadata": {},
   "source": [
    "### MPI csv generation"
   ]
  },
  {
   "cell_type": "code",
   "execution_count": 3,
   "metadata": {},
   "outputs": [],
   "source": [
    "# Generate random numbers between 0 and 255\n",
    "random_values = np.random.randint(0, 256, size=(4, 4))\n",
    "\n",
    "# Create a DataFrame from the random values\n",
    "df = pd.DataFrame(random_values)\n",
    "\n",
    "# Save the DataFrame to a CSV file\n",
    "df.to_csv('MPI_signal.csv', index=False, header=False)"
   ]
  },
  {
   "cell_type": "markdown",
   "metadata": {},
   "source": [
    "### Visualise the signals"
   ]
  },
  {
   "cell_type": "code",
   "execution_count": 6,
   "metadata": {},
   "outputs": [],
   "source": [
    "def visualise_image():\n",
    "    # Read the image\n",
    "    image = cv2.imread('sample_image.jpg')\n",
    "    gray_img = cv2.cvtColor(image, cv2.COLOR_BGR2GRAY)\n",
    "\n",
    "    # Display the grayscale image\n",
    "    cv2.imshow('Image', gray_img)\n",
    "    cv2.waitKey(0)\n",
    "    cv2.destroyAllWindows()\n",
    "\n",
    "    return gray_img\n",
    "\n",
    "def visualise_csv():\n",
    "    #rename input_singal with signal name\n",
    "    df = pd.read_csv('input_signal.csv', header=None)\n",
    "\n",
    "    image = df.to_numpy()\n",
    "\n",
    "    image = image.astype(np.uint8)\n",
    "\n",
    "    cv2.imshow('Image', image)\n",
    "    cv2.waitKey(0)\n",
    "    cv2.destroyAllWindows()\n",
    "\n",
    "def visualise_dft():\n",
    "    # Convert the image to grayscale\n",
    "    gray_img = visualise_image()\n",
    "\n",
    "    dft_result = cv2.dft(np.float32(gray_img), flags=cv2.DFT_COMPLEX_OUTPUT)\n",
    "\n",
    "    cv2.imshow('Image', dft_result[:,:,0])\n",
    "    cv2.waitKey(0)\n",
    "    cv2.destroyAllWindows()\n",
    "\n",
    "    return dft_result\n",
    "\n",
    "def visualise_idft():\n",
    "    # convert to dft\n",
    "    dft_result = visualise_dft()\n",
    "\n",
    "    idft_result = cv2.idft(dft_result)\n",
    "\n",
    "    idft_abs = cv2.magnitude(idft_result[:,:,0], idft_result[:,:,1])\n",
    "\n",
    "    idft_normalized = cv2.normalize(idft_abs, None, 0, 255, cv2.NORM_MINMAX, cv2.CV_8U)\n",
    "\n",
    "    cv2.imshow('Image', idft_normalized)\n",
    "    cv2.waitKey(0)\n",
    "    cv2.destroyAllWindows()\n",
    "\n",
    "visualise_csv()"
   ]
  }
 ],
 "metadata": {
  "kernelspec": {
   "display_name": "Python 3",
   "language": "python",
   "name": "python3"
  },
  "language_info": {
   "codemirror_mode": {
    "name": "ipython",
    "version": 3
   },
   "file_extension": ".py",
   "mimetype": "text/x-python",
   "name": "python",
   "nbconvert_exporter": "python",
   "pygments_lexer": "ipython3",
   "version": "3.12.1"
  }
 },
 "nbformat": 4,
 "nbformat_minor": 2
}
